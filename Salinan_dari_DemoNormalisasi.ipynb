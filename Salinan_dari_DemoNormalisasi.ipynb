{
  "nbformat": 4,
  "nbformat_minor": 0,
  "metadata": {
    "colab": {
      "provenance": [],
      "authorship_tag": "ABX9TyMBSZv4nJFPo0SR7Gt4imee",
      "include_colab_link": true
    },
    "kernelspec": {
      "name": "python3",
      "display_name": "Python 3"
    },
    "language_info": {
      "name": "python"
    }
  },
  "cells": [
    {
      "cell_type": "markdown",
      "metadata": {
        "id": "view-in-github",
        "colab_type": "text"
      },
      "source": [
        "<a href=\"https://colab.research.google.com/github/Mercurylonely/COLLAB/blob/main/Salinan_dari_DemoNormalisasi.ipynb\" target=\"_parent\"><img src=\"https://colab.research.google.com/assets/colab-badge.svg\" alt=\"Open In Colab\"/></a>"
      ]
    },
    {
      "cell_type": "code",
      "execution_count": null,
      "metadata": {
        "id": "XvPEQTpPnXdf"
      },
      "outputs": [],
      "source": [
        "import pandas as pd\n",
        "from sklearn.preprocessing import MinMaxScaler"
      ]
    },
    {
      "cell_type": "markdown",
      "source": [
        "#Import Data"
      ],
      "metadata": {
        "id": "1qFrVdDBoPcT"
      }
    },
    {
      "cell_type": "code",
      "source": [
        "data = {\n",
        "    'ID': [1, 2, 3, 4, 5, 6, 7, 8, 9, 10],\n",
        "    'Nama Produk': ['Sepatu Sneakers', 'Blender Elektrik', 'T-Shirt Pria', 'Meja Belajar Kayu',\n",
        "                    'Laptop Gaming', 'Handphone Android', 'Kompor Gas 2 Tungku', 'Buku Motivasi',\n",
        "                    'Tas Punggung', 'Rice Cooker'],\n",
        "    'Kategori': ['Fashion', 'Elektronik', 'Fashion', 'Furniture', 'Elektronik', 'Elektronik',\n",
        "                 'Rumah Tangga', 'Buku', 'Fashion', 'Elektronik'],\n",
        "    'Harga (Rp)': [300000, 500000, None, 800000, 12000000, None, 400000, 90000, 200000, 350000],\n",
        "    'Rating': [4.8, 4.5, 4.1, 4.9, 4.7, None, 3.9, 4.2, 4.6, 4.0],\n",
        "    'Jumlah Ulasan': [120, 80, 45, 200, None, 100, 60, None, 95, 70],\n",
        "    'Jumlah Terjual': [50, None, 100, 10, 5, 20, 70, None, 80, 40],\n",
        "    'Status Promo': ['Promo', 'Tidak Promo', 'Promo', None, 'Tidak Promo', 'Promo', 'Tidak Promo', 'Promo', 'Tidak Promo', 'Promo'],\n",
        "    'Stok': [500, 200, 80, 700, 300, 250, None, 110, 180, None],\n",
        "    'Populer/Tidak Populer': ['Populer', 'Populer', 'Tidak Populer', 'Populer', 'Populer', 'Populer', 'Tidak Populer', 'Tidak Populer', None, 'Tidak Populer']\n",
        "}"
      ],
      "metadata": {
        "id": "byIH5QDKnevl"
      },
      "execution_count": null,
      "outputs": []
    },
    {
      "cell_type": "code",
      "source": [
        "df = pd.DataFrame(data)\n",
        "print(df)"
      ],
      "metadata": {
        "colab": {
          "base_uri": "https://localhost:8080/"
        },
        "id": "VCT5DpSEno5H",
        "outputId": "682c77ab-3711-46ca-be2b-b5132dcfc849"
      },
      "execution_count": null,
      "outputs": [
        {
          "output_type": "stream",
          "name": "stdout",
          "text": [
            "   ID          Nama Produk      Kategori  ...  Status Promo   Stok  Populer/Tidak Populer\n",
            "0   1      Sepatu Sneakers       Fashion  ...         Promo  500.0                Populer\n",
            "1   2     Blender Elektrik    Elektronik  ...   Tidak Promo  200.0                Populer\n",
            "2   3         T-Shirt Pria       Fashion  ...         Promo   80.0          Tidak Populer\n",
            "3   4    Meja Belajar Kayu     Furniture  ...          None  700.0                Populer\n",
            "4   5        Laptop Gaming    Elektronik  ...   Tidak Promo  300.0                Populer\n",
            "5   6    Handphone Android    Elektronik  ...         Promo  250.0                Populer\n",
            "6   7  Kompor Gas 2 Tungku  Rumah Tangga  ...   Tidak Promo    NaN          Tidak Populer\n",
            "7   8        Buku Motivasi          Buku  ...         Promo  110.0          Tidak Populer\n",
            "8   9         Tas Punggung       Fashion  ...   Tidak Promo  180.0                   None\n",
            "9  10          Rice Cooker    Elektronik  ...         Promo    NaN          Tidak Populer\n",
            "\n",
            "[10 rows x 10 columns]\n"
          ]
        }
      ]
    },
    {
      "cell_type": "markdown",
      "source": [
        "#Handling Missing Value"
      ],
      "metadata": {
        "id": "eiESCT89oKuM"
      }
    },
    {
      "cell_type": "code",
      "source": [
        "# Mengisi missing value di kolom Harga dengan median per kategori\n",
        "df['Harga (Rp)'] = df.groupby('Kategori')['Harga (Rp)'].transform(lambda x: x.fillna(x.median()))"
      ],
      "metadata": {
        "id": "oVAcx7TinxNQ"
      },
      "execution_count": null,
      "outputs": []
    },
    {
      "cell_type": "code",
      "source": [
        "# Mengisi missing value di kolom Jumlah Ulasan dan Jumlah Terjual dengan 0\n",
        "df['Jumlah Ulasan'].fillna(0, inplace=True)\n",
        "df['Jumlah Terjual'].fillna(0, inplace=True)"
      ],
      "metadata": {
        "colab": {
          "base_uri": "https://localhost:8080/"
        },
        "id": "ECZMINj2oKZk",
        "outputId": "3c4a1a46-00e2-446d-a3cb-90a66bbb1bfd"
      },
      "execution_count": null,
      "outputs": [
        {
          "output_type": "stream",
          "name": "stderr",
          "text": [
            "<ipython-input-8-6198f6c91587>:2: FutureWarning: A value is trying to be set on a copy of a DataFrame or Series through chained assignment using an inplace method.\n",
            "The behavior will change in pandas 3.0. This inplace method will never work because the intermediate object on which we are setting values always behaves as a copy.\n",
            "\n",
            "For example, when doing 'df[col].method(value, inplace=True)', try using 'df.method({col: value}, inplace=True)' or df[col] = df[col].method(value) instead, to perform the operation inplace on the original object.\n",
            "\n",
            "\n",
            "  df['Jumlah Ulasan'].fillna(0, inplace=True)\n",
            "<ipython-input-8-6198f6c91587>:3: FutureWarning: A value is trying to be set on a copy of a DataFrame or Series through chained assignment using an inplace method.\n",
            "The behavior will change in pandas 3.0. This inplace method will never work because the intermediate object on which we are setting values always behaves as a copy.\n",
            "\n",
            "For example, when doing 'df[col].method(value, inplace=True)', try using 'df.method({col: value}, inplace=True)' or df[col] = df[col].method(value) instead, to perform the operation inplace on the original object.\n",
            "\n",
            "\n",
            "  df['Jumlah Terjual'].fillna(0, inplace=True)\n"
          ]
        }
      ]
    },
    {
      "cell_type": "code",
      "source": [
        "# Mengisi missing value di kolom Status Promo dengan \"Tidak Promo\"\n",
        "df['Status Promo'].fillna('Tidak Promo', inplace=True)\n"
      ],
      "metadata": {
        "colab": {
          "base_uri": "https://localhost:8080/"
        },
        "id": "vggoGbFOoYd4",
        "outputId": "730c2d1c-5862-43aa-c0e5-ef69fde78b2a"
      },
      "execution_count": null,
      "outputs": [
        {
          "output_type": "stream",
          "name": "stderr",
          "text": [
            "<ipython-input-9-9de1b880339f>:2: FutureWarning: A value is trying to be set on a copy of a DataFrame or Series through chained assignment using an inplace method.\n",
            "The behavior will change in pandas 3.0. This inplace method will never work because the intermediate object on which we are setting values always behaves as a copy.\n",
            "\n",
            "For example, when doing 'df[col].method(value, inplace=True)', try using 'df.method({col: value}, inplace=True)' or df[col] = df[col].method(value) instead, to perform the operation inplace on the original object.\n",
            "\n",
            "\n",
            "  df['Status Promo'].fillna('Tidak Promo', inplace=True)\n"
          ]
        }
      ]
    },
    {
      "cell_type": "code",
      "source": [
        "# Mengisi missing value di kolom Stok dengan 0\n",
        "df['Stok'].fillna(0, inplace=True)"
      ],
      "metadata": {
        "colab": {
          "base_uri": "https://localhost:8080/"
        },
        "id": "rgpJS_ePoeCf",
        "outputId": "d0c0e305-a1ec-4e4f-9116-87c84fb5b5bb"
      },
      "execution_count": null,
      "outputs": [
        {
          "output_type": "stream",
          "name": "stderr",
          "text": [
            "<ipython-input-10-21ab6b190efb>:2: FutureWarning: A value is trying to be set on a copy of a DataFrame or Series through chained assignment using an inplace method.\n",
            "The behavior will change in pandas 3.0. This inplace method will never work because the intermediate object on which we are setting values always behaves as a copy.\n",
            "\n",
            "For example, when doing 'df[col].method(value, inplace=True)', try using 'df.method({col: value}, inplace=True)' or df[col] = df[col].method(value) instead, to perform the operation inplace on the original object.\n",
            "\n",
            "\n",
            "  df['Stok'].fillna(0, inplace=True)\n"
          ]
        }
      ]
    },
    {
      "cell_type": "code",
      "source": [
        "# Mengisi missing value di kolom Populer/Tidak Populer dengan \"Tidak Populer\"\n",
        "df['Populer/Tidak Populer'].fillna('Tidak Populer', inplace=True)"
      ],
      "metadata": {
        "colab": {
          "base_uri": "https://localhost:8080/"
        },
        "id": "_NlJL-E4ogSR",
        "outputId": "6236f792-e888-4b82-80dd-543ed8dfba64"
      },
      "execution_count": null,
      "outputs": [
        {
          "output_type": "stream",
          "name": "stderr",
          "text": [
            "<ipython-input-11-107d33b1fb17>:2: FutureWarning: A value is trying to be set on a copy of a DataFrame or Series through chained assignment using an inplace method.\n",
            "The behavior will change in pandas 3.0. This inplace method will never work because the intermediate object on which we are setting values always behaves as a copy.\n",
            "\n",
            "For example, when doing 'df[col].method(value, inplace=True)', try using 'df.method({col: value}, inplace=True)' or df[col] = df[col].method(value) instead, to perform the operation inplace on the original object.\n",
            "\n",
            "\n",
            "  df['Populer/Tidak Populer'].fillna('Tidak Populer', inplace=True)\n"
          ]
        }
      ]
    },
    {
      "cell_type": "markdown",
      "source": [
        "#Menormalisasi Data yang ada\n"
      ],
      "metadata": {
        "id": "QmmezLfLpQgU"
      }
    },
    {
      "cell_type": "code",
      "source": [
        "scaler = MinMaxScaler()"
      ],
      "metadata": {
        "id": "yw6JSq6volYf"
      },
      "execution_count": null,
      "outputs": []
    },
    {
      "cell_type": "code",
      "source": [
        "df[['Harga (Rp) Normalisasi', 'Jumlah Terjual Normalisasi']] = scaler.fit_transform(df[['Harga (Rp)', 'Jumlah Terjual']])"
      ],
      "metadata": {
        "id": "toa7I4dhrINy"
      },
      "execution_count": null,
      "outputs": []
    },
    {
      "cell_type": "code",
      "source": [
        "df.head(10)"
      ],
      "metadata": {
        "colab": {
          "base_uri": "https://localhost:8080/",
          "height": 363
        },
        "id": "fGSbyICaovIK",
        "outputId": "20f5106d-c763-4cff-8955-0562c8b614ec"
      },
      "execution_count": null,
      "outputs": [
        {
          "output_type": "execute_result",
          "data": {
            "text/plain": [
              "   ID          Nama Produk      Kategori  ...  Status Promo   Stok  Populer/Tidak Populer\n",
              "0   1      Sepatu Sneakers       Fashion  ...         Promo  500.0                Populer\n",
              "1   2     Blender Elektrik    Elektronik  ...   Tidak Promo  200.0                Populer\n",
              "2   3         T-Shirt Pria       Fashion  ...         Promo   80.0          Tidak Populer\n",
              "3   4    Meja Belajar Kayu     Furniture  ...   Tidak Promo  700.0                Populer\n",
              "4   5        Laptop Gaming    Elektronik  ...   Tidak Promo  300.0                Populer\n",
              "5   6    Handphone Android    Elektronik  ...         Promo  250.0                Populer\n",
              "6   7  Kompor Gas 2 Tungku  Rumah Tangga  ...   Tidak Promo    0.0          Tidak Populer\n",
              "7   8        Buku Motivasi          Buku  ...         Promo  110.0          Tidak Populer\n",
              "8   9         Tas Punggung       Fashion  ...   Tidak Promo  180.0          Tidak Populer\n",
              "9  10          Rice Cooker    Elektronik  ...         Promo    0.0          Tidak Populer\n",
              "\n",
              "[10 rows x 10 columns]"
            ],
            "text/html": [
              "\n",
              "  <div id=\"df-d2a74df2-34af-49a1-8680-fb7f7163e4f0\" class=\"colab-df-container\">\n",
              "    <div>\n",
              "<style scoped>\n",
              "    .dataframe tbody tr th:only-of-type {\n",
              "        vertical-align: middle;\n",
              "    }\n",
              "\n",
              "    .dataframe tbody tr th {\n",
              "        vertical-align: top;\n",
              "    }\n",
              "\n",
              "    .dataframe thead th {\n",
              "        text-align: right;\n",
              "    }\n",
              "</style>\n",
              "<table border=\"1\" class=\"dataframe\">\n",
              "  <thead>\n",
              "    <tr style=\"text-align: right;\">\n",
              "      <th></th>\n",
              "      <th>ID</th>\n",
              "      <th>Nama Produk</th>\n",
              "      <th>Kategori</th>\n",
              "      <th>Harga (Rp)</th>\n",
              "      <th>Rating</th>\n",
              "      <th>Jumlah Ulasan</th>\n",
              "      <th>Jumlah Terjual</th>\n",
              "      <th>Status Promo</th>\n",
              "      <th>Stok</th>\n",
              "      <th>Populer/Tidak Populer</th>\n",
              "    </tr>\n",
              "  </thead>\n",
              "  <tbody>\n",
              "    <tr>\n",
              "      <th>0</th>\n",
              "      <td>1</td>\n",
              "      <td>Sepatu Sneakers</td>\n",
              "      <td>Fashion</td>\n",
              "      <td>0.017632</td>\n",
              "      <td>4.8</td>\n",
              "      <td>120.0</td>\n",
              "      <td>50.0</td>\n",
              "      <td>Promo</td>\n",
              "      <td>500.0</td>\n",
              "      <td>Populer</td>\n",
              "    </tr>\n",
              "    <tr>\n",
              "      <th>1</th>\n",
              "      <td>2</td>\n",
              "      <td>Blender Elektrik</td>\n",
              "      <td>Elektronik</td>\n",
              "      <td>0.034425</td>\n",
              "      <td>4.5</td>\n",
              "      <td>80.0</td>\n",
              "      <td>0.0</td>\n",
              "      <td>Tidak Promo</td>\n",
              "      <td>200.0</td>\n",
              "      <td>Populer</td>\n",
              "    </tr>\n",
              "    <tr>\n",
              "      <th>2</th>\n",
              "      <td>3</td>\n",
              "      <td>T-Shirt Pria</td>\n",
              "      <td>Fashion</td>\n",
              "      <td>0.013434</td>\n",
              "      <td>4.1</td>\n",
              "      <td>45.0</td>\n",
              "      <td>100.0</td>\n",
              "      <td>Promo</td>\n",
              "      <td>80.0</td>\n",
              "      <td>Tidak Populer</td>\n",
              "    </tr>\n",
              "    <tr>\n",
              "      <th>3</th>\n",
              "      <td>4</td>\n",
              "      <td>Meja Belajar Kayu</td>\n",
              "      <td>Furniture</td>\n",
              "      <td>0.059614</td>\n",
              "      <td>4.9</td>\n",
              "      <td>200.0</td>\n",
              "      <td>10.0</td>\n",
              "      <td>Tidak Promo</td>\n",
              "      <td>700.0</td>\n",
              "      <td>Populer</td>\n",
              "    </tr>\n",
              "    <tr>\n",
              "      <th>4</th>\n",
              "      <td>5</td>\n",
              "      <td>Laptop Gaming</td>\n",
              "      <td>Elektronik</td>\n",
              "      <td>1.000000</td>\n",
              "      <td>4.7</td>\n",
              "      <td>0.0</td>\n",
              "      <td>5.0</td>\n",
              "      <td>Tidak Promo</td>\n",
              "      <td>300.0</td>\n",
              "      <td>Populer</td>\n",
              "    </tr>\n",
              "    <tr>\n",
              "      <th>5</th>\n",
              "      <td>6</td>\n",
              "      <td>Handphone Android</td>\n",
              "      <td>Elektronik</td>\n",
              "      <td>0.034425</td>\n",
              "      <td>NaN</td>\n",
              "      <td>100.0</td>\n",
              "      <td>20.0</td>\n",
              "      <td>Promo</td>\n",
              "      <td>250.0</td>\n",
              "      <td>Populer</td>\n",
              "    </tr>\n",
              "    <tr>\n",
              "      <th>6</th>\n",
              "      <td>7</td>\n",
              "      <td>Kompor Gas 2 Tungku</td>\n",
              "      <td>Rumah Tangga</td>\n",
              "      <td>0.026029</td>\n",
              "      <td>3.9</td>\n",
              "      <td>60.0</td>\n",
              "      <td>70.0</td>\n",
              "      <td>Tidak Promo</td>\n",
              "      <td>0.0</td>\n",
              "      <td>Tidak Populer</td>\n",
              "    </tr>\n",
              "    <tr>\n",
              "      <th>7</th>\n",
              "      <td>8</td>\n",
              "      <td>Buku Motivasi</td>\n",
              "      <td>Buku</td>\n",
              "      <td>0.000000</td>\n",
              "      <td>4.2</td>\n",
              "      <td>0.0</td>\n",
              "      <td>0.0</td>\n",
              "      <td>Promo</td>\n",
              "      <td>110.0</td>\n",
              "      <td>Tidak Populer</td>\n",
              "    </tr>\n",
              "    <tr>\n",
              "      <th>8</th>\n",
              "      <td>9</td>\n",
              "      <td>Tas Punggung</td>\n",
              "      <td>Fashion</td>\n",
              "      <td>0.009236</td>\n",
              "      <td>4.6</td>\n",
              "      <td>95.0</td>\n",
              "      <td>80.0</td>\n",
              "      <td>Tidak Promo</td>\n",
              "      <td>180.0</td>\n",
              "      <td>Tidak Populer</td>\n",
              "    </tr>\n",
              "    <tr>\n",
              "      <th>9</th>\n",
              "      <td>10</td>\n",
              "      <td>Rice Cooker</td>\n",
              "      <td>Elektronik</td>\n",
              "      <td>0.021830</td>\n",
              "      <td>4.0</td>\n",
              "      <td>70.0</td>\n",
              "      <td>40.0</td>\n",
              "      <td>Promo</td>\n",
              "      <td>0.0</td>\n",
              "      <td>Tidak Populer</td>\n",
              "    </tr>\n",
              "  </tbody>\n",
              "</table>\n",
              "</div>\n",
              "    <div class=\"colab-df-buttons\">\n",
              "\n",
              "  <div class=\"colab-df-container\">\n",
              "    <button class=\"colab-df-convert\" onclick=\"convertToInteractive('df-d2a74df2-34af-49a1-8680-fb7f7163e4f0')\"\n",
              "            title=\"Convert this dataframe to an interactive table.\"\n",
              "            style=\"display:none;\">\n",
              "\n",
              "  <svg xmlns=\"http://www.w3.org/2000/svg\" height=\"24px\" viewBox=\"0 -960 960 960\">\n",
              "    <path d=\"M120-120v-720h720v720H120Zm60-500h600v-160H180v160Zm220 220h160v-160H400v160Zm0 220h160v-160H400v160ZM180-400h160v-160H180v160Zm440 0h160v-160H620v160ZM180-180h160v-160H180v160Zm440 0h160v-160H620v160Z\"/>\n",
              "  </svg>\n",
              "    </button>\n",
              "\n",
              "  <style>\n",
              "    .colab-df-container {\n",
              "      display:flex;\n",
              "      gap: 12px;\n",
              "    }\n",
              "\n",
              "    .colab-df-convert {\n",
              "      background-color: #E8F0FE;\n",
              "      border: none;\n",
              "      border-radius: 50%;\n",
              "      cursor: pointer;\n",
              "      display: none;\n",
              "      fill: #1967D2;\n",
              "      height: 32px;\n",
              "      padding: 0 0 0 0;\n",
              "      width: 32px;\n",
              "    }\n",
              "\n",
              "    .colab-df-convert:hover {\n",
              "      background-color: #E2EBFA;\n",
              "      box-shadow: 0px 1px 2px rgba(60, 64, 67, 0.3), 0px 1px 3px 1px rgba(60, 64, 67, 0.15);\n",
              "      fill: #174EA6;\n",
              "    }\n",
              "\n",
              "    .colab-df-buttons div {\n",
              "      margin-bottom: 4px;\n",
              "    }\n",
              "\n",
              "    [theme=dark] .colab-df-convert {\n",
              "      background-color: #3B4455;\n",
              "      fill: #D2E3FC;\n",
              "    }\n",
              "\n",
              "    [theme=dark] .colab-df-convert:hover {\n",
              "      background-color: #434B5C;\n",
              "      box-shadow: 0px 1px 3px 1px rgba(0, 0, 0, 0.15);\n",
              "      filter: drop-shadow(0px 1px 2px rgba(0, 0, 0, 0.3));\n",
              "      fill: #FFFFFF;\n",
              "    }\n",
              "  </style>\n",
              "\n",
              "    <script>\n",
              "      const buttonEl =\n",
              "        document.querySelector('#df-d2a74df2-34af-49a1-8680-fb7f7163e4f0 button.colab-df-convert');\n",
              "      buttonEl.style.display =\n",
              "        google.colab.kernel.accessAllowed ? 'block' : 'none';\n",
              "\n",
              "      async function convertToInteractive(key) {\n",
              "        const element = document.querySelector('#df-d2a74df2-34af-49a1-8680-fb7f7163e4f0');\n",
              "        const dataTable =\n",
              "          await google.colab.kernel.invokeFunction('convertToInteractive',\n",
              "                                                    [key], {});\n",
              "        if (!dataTable) return;\n",
              "\n",
              "        const docLinkHtml = 'Like what you see? Visit the ' +\n",
              "          '<a target=\"_blank\" href=https://colab.research.google.com/notebooks/data_table.ipynb>data table notebook</a>'\n",
              "          + ' to learn more about interactive tables.';\n",
              "        element.innerHTML = '';\n",
              "        dataTable['output_type'] = 'display_data';\n",
              "        await google.colab.output.renderOutput(dataTable, element);\n",
              "        const docLink = document.createElement('div');\n",
              "        docLink.innerHTML = docLinkHtml;\n",
              "        element.appendChild(docLink);\n",
              "      }\n",
              "    </script>\n",
              "  </div>\n",
              "\n",
              "\n",
              "<div id=\"df-ac06943f-f65f-4caf-839c-be60ceaa813f\">\n",
              "  <button class=\"colab-df-quickchart\" onclick=\"quickchart('df-ac06943f-f65f-4caf-839c-be60ceaa813f')\"\n",
              "            title=\"Suggest charts\"\n",
              "            style=\"display:none;\">\n",
              "\n",
              "<svg xmlns=\"http://www.w3.org/2000/svg\" height=\"24px\"viewBox=\"0 0 24 24\"\n",
              "     width=\"24px\">\n",
              "    <g>\n",
              "        <path d=\"M19 3H5c-1.1 0-2 .9-2 2v14c0 1.1.9 2 2 2h14c1.1 0 2-.9 2-2V5c0-1.1-.9-2-2-2zM9 17H7v-7h2v7zm4 0h-2V7h2v10zm4 0h-2v-4h2v4z\"/>\n",
              "    </g>\n",
              "</svg>\n",
              "  </button>\n",
              "\n",
              "<style>\n",
              "  .colab-df-quickchart {\n",
              "      --bg-color: #E8F0FE;\n",
              "      --fill-color: #1967D2;\n",
              "      --hover-bg-color: #E2EBFA;\n",
              "      --hover-fill-color: #174EA6;\n",
              "      --disabled-fill-color: #AAA;\n",
              "      --disabled-bg-color: #DDD;\n",
              "  }\n",
              "\n",
              "  [theme=dark] .colab-df-quickchart {\n",
              "      --bg-color: #3B4455;\n",
              "      --fill-color: #D2E3FC;\n",
              "      --hover-bg-color: #434B5C;\n",
              "      --hover-fill-color: #FFFFFF;\n",
              "      --disabled-bg-color: #3B4455;\n",
              "      --disabled-fill-color: #666;\n",
              "  }\n",
              "\n",
              "  .colab-df-quickchart {\n",
              "    background-color: var(--bg-color);\n",
              "    border: none;\n",
              "    border-radius: 50%;\n",
              "    cursor: pointer;\n",
              "    display: none;\n",
              "    fill: var(--fill-color);\n",
              "    height: 32px;\n",
              "    padding: 0;\n",
              "    width: 32px;\n",
              "  }\n",
              "\n",
              "  .colab-df-quickchart:hover {\n",
              "    background-color: var(--hover-bg-color);\n",
              "    box-shadow: 0 1px 2px rgba(60, 64, 67, 0.3), 0 1px 3px 1px rgba(60, 64, 67, 0.15);\n",
              "    fill: var(--button-hover-fill-color);\n",
              "  }\n",
              "\n",
              "  .colab-df-quickchart-complete:disabled,\n",
              "  .colab-df-quickchart-complete:disabled:hover {\n",
              "    background-color: var(--disabled-bg-color);\n",
              "    fill: var(--disabled-fill-color);\n",
              "    box-shadow: none;\n",
              "  }\n",
              "\n",
              "  .colab-df-spinner {\n",
              "    border: 2px solid var(--fill-color);\n",
              "    border-color: transparent;\n",
              "    border-bottom-color: var(--fill-color);\n",
              "    animation:\n",
              "      spin 1s steps(1) infinite;\n",
              "  }\n",
              "\n",
              "  @keyframes spin {\n",
              "    0% {\n",
              "      border-color: transparent;\n",
              "      border-bottom-color: var(--fill-color);\n",
              "      border-left-color: var(--fill-color);\n",
              "    }\n",
              "    20% {\n",
              "      border-color: transparent;\n",
              "      border-left-color: var(--fill-color);\n",
              "      border-top-color: var(--fill-color);\n",
              "    }\n",
              "    30% {\n",
              "      border-color: transparent;\n",
              "      border-left-color: var(--fill-color);\n",
              "      border-top-color: var(--fill-color);\n",
              "      border-right-color: var(--fill-color);\n",
              "    }\n",
              "    40% {\n",
              "      border-color: transparent;\n",
              "      border-right-color: var(--fill-color);\n",
              "      border-top-color: var(--fill-color);\n",
              "    }\n",
              "    60% {\n",
              "      border-color: transparent;\n",
              "      border-right-color: var(--fill-color);\n",
              "    }\n",
              "    80% {\n",
              "      border-color: transparent;\n",
              "      border-right-color: var(--fill-color);\n",
              "      border-bottom-color: var(--fill-color);\n",
              "    }\n",
              "    90% {\n",
              "      border-color: transparent;\n",
              "      border-bottom-color: var(--fill-color);\n",
              "    }\n",
              "  }\n",
              "</style>\n",
              "\n",
              "  <script>\n",
              "    async function quickchart(key) {\n",
              "      const quickchartButtonEl =\n",
              "        document.querySelector('#' + key + ' button');\n",
              "      quickchartButtonEl.disabled = true;  // To prevent multiple clicks.\n",
              "      quickchartButtonEl.classList.add('colab-df-spinner');\n",
              "      try {\n",
              "        const charts = await google.colab.kernel.invokeFunction(\n",
              "            'suggestCharts', [key], {});\n",
              "      } catch (error) {\n",
              "        console.error('Error during call to suggestCharts:', error);\n",
              "      }\n",
              "      quickchartButtonEl.classList.remove('colab-df-spinner');\n",
              "      quickchartButtonEl.classList.add('colab-df-quickchart-complete');\n",
              "    }\n",
              "    (() => {\n",
              "      let quickchartButtonEl =\n",
              "        document.querySelector('#df-ac06943f-f65f-4caf-839c-be60ceaa813f button');\n",
              "      quickchartButtonEl.style.display =\n",
              "        google.colab.kernel.accessAllowed ? 'block' : 'none';\n",
              "    })();\n",
              "  </script>\n",
              "</div>\n",
              "\n",
              "    </div>\n",
              "  </div>\n"
            ],
            "application/vnd.google.colaboratory.intrinsic+json": {
              "type": "dataframe",
              "variable_name": "df",
              "summary": "{\n  \"name\": \"df\",\n  \"rows\": 10,\n  \"fields\": [\n    {\n      \"column\": \"ID\",\n      \"properties\": {\n        \"dtype\": \"number\",\n        \"std\": 3,\n        \"min\": 1,\n        \"max\": 10,\n        \"num_unique_values\": 10,\n        \"samples\": [\n          9,\n          2,\n          6\n        ],\n        \"semantic_type\": \"\",\n        \"description\": \"\"\n      }\n    },\n    {\n      \"column\": \"Nama Produk\",\n      \"properties\": {\n        \"dtype\": \"string\",\n        \"num_unique_values\": 10,\n        \"samples\": [\n          \"Tas Punggung\",\n          \"Blender Elektrik\",\n          \"Handphone Android\"\n        ],\n        \"semantic_type\": \"\",\n        \"description\": \"\"\n      }\n    },\n    {\n      \"column\": \"Kategori\",\n      \"properties\": {\n        \"dtype\": \"string\",\n        \"num_unique_values\": 5,\n        \"samples\": [\n          \"Elektronik\",\n          \"Buku\",\n          \"Furniture\"\n        ],\n        \"semantic_type\": \"\",\n        \"description\": \"\"\n      }\n    },\n    {\n      \"column\": \"Harga (Rp)\",\n      \"properties\": {\n        \"dtype\": \"number\",\n        \"std\": 0.30905538963501633,\n        \"min\": 0.0,\n        \"max\": 1.0,\n        \"num_unique_values\": 9,\n        \"samples\": [\n          0.009235936188077245,\n          0.03442485306465155,\n          0.026028547439126783\n        ],\n        \"semantic_type\": \"\",\n        \"description\": \"\"\n      }\n    },\n    {\n      \"column\": \"Rating\",\n      \"properties\": {\n        \"dtype\": \"number\",\n        \"std\": 0.368932393686311,\n        \"min\": 3.9,\n        \"max\": 4.9,\n        \"num_unique_values\": 9,\n        \"samples\": [\n          4.6,\n          4.5,\n          3.9\n        ],\n        \"semantic_type\": \"\",\n        \"description\": \"\"\n      }\n    },\n    {\n      \"column\": \"Jumlah Ulasan\",\n      \"properties\": {\n        \"dtype\": \"number\",\n        \"std\": 58.746158266827216,\n        \"min\": 0.0,\n        \"max\": 200.0,\n        \"num_unique_values\": 9,\n        \"samples\": [\n          95.0,\n          80.0,\n          100.0\n        ],\n        \"semantic_type\": \"\",\n        \"description\": \"\"\n      }\n    },\n    {\n      \"column\": \"Jumlah Terjual\",\n      \"properties\": {\n        \"dtype\": \"number\",\n        \"std\": 36.305034851319945,\n        \"min\": 0.0,\n        \"max\": 100.0,\n        \"num_unique_values\": 9,\n        \"samples\": [\n          80.0,\n          0.0,\n          20.0\n        ],\n        \"semantic_type\": \"\",\n        \"description\": \"\"\n      }\n    },\n    {\n      \"column\": \"Status Promo\",\n      \"properties\": {\n        \"dtype\": \"category\",\n        \"num_unique_values\": 2,\n        \"samples\": [\n          \"Tidak Promo\",\n          \"Promo\"\n        ],\n        \"semantic_type\": \"\",\n        \"description\": \"\"\n      }\n    },\n    {\n      \"column\": \"Stok\",\n      \"properties\": {\n        \"dtype\": \"number\",\n        \"std\": 222.4010391662373,\n        \"min\": 0.0,\n        \"max\": 700.0,\n        \"num_unique_values\": 9,\n        \"samples\": [\n          110.0,\n          200.0\n        ],\n        \"semantic_type\": \"\",\n        \"description\": \"\"\n      }\n    },\n    {\n      \"column\": \"Populer/Tidak Populer\",\n      \"properties\": {\n        \"dtype\": \"category\",\n        \"num_unique_values\": 2,\n        \"samples\": [\n          \"Tidak Populer\",\n          \"Populer\"\n        ],\n        \"semantic_type\": \"\",\n        \"description\": \"\"\n      }\n    }\n  ]\n}"
            }
          },
          "metadata": {},
          "execution_count": 14
        }
      ]
    },
    {
      "cell_type": "markdown",
      "source": [
        "#Mendiskritisasi berdasarkan Stock ? kategori Harga ?\n"
      ],
      "metadata": {
        "id": "ZyisbkBDo9to"
      }
    },
    {
      "cell_type": "code",
      "source": [
        "#Diskritisasi untuk Harga\n",
        "def kategori_harga(harga):\n",
        "    if harga < 500000:\n",
        "        return 'Murah'\n",
        "    elif 500000 <= harga <= 2000000:\n",
        "        return 'Sedang'\n",
        "    else:\n",
        "        return 'Mahal'"
      ],
      "metadata": {
        "id": "TfQHhW6voy5O"
      },
      "execution_count": null,
      "outputs": []
    },
    {
      "cell_type": "code",
      "source": [
        "df['Kategori Harga'] = df['Harga (Rp)'].apply(kategori_harga)"
      ],
      "metadata": {
        "id": "D6Y4dfdJpyG-"
      },
      "execution_count": null,
      "outputs": []
    },
    {
      "cell_type": "code",
      "source": [
        "#Diskritisasi untuk Rating\n",
        "def kategori_rating(rating):\n",
        "    if rating is None:\n",
        "        return 'Tidak Ada'\n",
        "    elif rating < 3.0:\n",
        "        return 'Rendah'\n",
        "    elif 3.0 <= rating <= 4.4:\n",
        "        return 'Sedang'\n",
        "    else:\n",
        "        return 'Tinggi'"
      ],
      "metadata": {
        "id": "_J0Msaj8p0mP"
      },
      "execution_count": null,
      "outputs": []
    },
    {
      "cell_type": "code",
      "source": [
        "df['Kategori Rating'] = df['Rating'].apply(kategori_rating)"
      ],
      "metadata": {
        "id": "xW2xoqV_qKLj"
      },
      "execution_count": null,
      "outputs": []
    },
    {
      "cell_type": "code",
      "source": [
        "#Diskritisasi untuk stock\n",
        "def kategori_stok(stok):\n",
        "    if stok < 100:\n",
        "        return 'Rendah'\n",
        "    elif 100 <= stok <= 300:\n",
        "        return 'Sedang'\n",
        "    else:\n",
        "        return 'Tinggi'"
      ],
      "metadata": {
        "id": "zctHY6XeqMDS"
      },
      "execution_count": null,
      "outputs": []
    },
    {
      "cell_type": "code",
      "source": [
        "df['Kategori Stok'] = df['Stok'].apply(kategori_stok)"
      ],
      "metadata": {
        "id": "dgu3vAbUqW_2"
      },
      "execution_count": null,
      "outputs": []
    },
    {
      "cell_type": "markdown",
      "source": [
        "#Dataset baru yang sudah di proses normalisasikan dan di diskritkan"
      ],
      "metadata": {
        "id": "B2F9WjoXqbKR"
      }
    },
    {
      "cell_type": "code",
      "source": [
        "print(df[['ID', 'Nama Produk', 'Kategori', 'Harga (Rp)', 'Harga (Rp) Normalisasi', 'Kategori Harga',\n",
        "          'Rating', 'Kategori Rating', 'Jumlah Ulasan', 'Jumlah Terjual', 'Jumlah Terjual Normalisasi',\n",
        "          'Status Promo', 'Stok', 'Kategori Stok', 'Populer/Tidak Populer']])"
      ],
      "metadata": {
        "colab": {
          "base_uri": "https://localhost:8080/"
        },
        "id": "ylK4jdBTqYzE",
        "outputId": "e7bfa383-11bc-468b-ca71-754d3681049d"
      },
      "execution_count": null,
      "outputs": [
        {
          "output_type": "stream",
          "name": "stdout",
          "text": [
            "   ID          Nama Produk      Kategori  ...   Stok  Kategori Stok Populer/Tidak Populer\n",
            "0   1      Sepatu Sneakers       Fashion  ...  500.0         Tinggi               Populer\n",
            "1   2     Blender Elektrik    Elektronik  ...  200.0         Sedang               Populer\n",
            "2   3         T-Shirt Pria       Fashion  ...   80.0         Rendah         Tidak Populer\n",
            "3   4    Meja Belajar Kayu     Furniture  ...  700.0         Tinggi               Populer\n",
            "4   5        Laptop Gaming    Elektronik  ...  300.0         Sedang               Populer\n",
            "5   6    Handphone Android    Elektronik  ...  250.0         Sedang               Populer\n",
            "6   7  Kompor Gas 2 Tungku  Rumah Tangga  ...    0.0         Rendah         Tidak Populer\n",
            "7   8        Buku Motivasi          Buku  ...  110.0         Sedang         Tidak Populer\n",
            "8   9         Tas Punggung       Fashion  ...  180.0         Sedang         Tidak Populer\n",
            "9  10          Rice Cooker    Elektronik  ...    0.0         Rendah         Tidak Populer\n",
            "\n",
            "[10 rows x 15 columns]\n"
          ]
        }
      ]
    },
    {
      "cell_type": "code",
      "source": [
        "pd.set_option('display.max_columns', None)"
      ],
      "metadata": {
        "id": "DeczNgY0r2lj"
      },
      "execution_count": null,
      "outputs": []
    },
    {
      "cell_type": "code",
      "source": [
        "print(df)"
      ],
      "metadata": {
        "colab": {
          "base_uri": "https://localhost:8080/"
        },
        "id": "2jc1w2MbrkQq",
        "outputId": "f357606e-6cc2-4c8a-9b81-82189e35cb30"
      },
      "execution_count": null,
      "outputs": [
        {
          "output_type": "stream",
          "name": "stdout",
          "text": [
            "   ID          Nama Produk      Kategori  Harga (Rp)  Rating  Jumlah Ulasan  \\\n",
            "0   1      Sepatu Sneakers       Fashion    0.017632     4.8          120.0   \n",
            "1   2     Blender Elektrik    Elektronik    0.034425     4.5           80.0   \n",
            "2   3         T-Shirt Pria       Fashion    0.013434     4.1           45.0   \n",
            "3   4    Meja Belajar Kayu     Furniture    0.059614     4.9          200.0   \n",
            "4   5        Laptop Gaming    Elektronik    1.000000     4.7            0.0   \n",
            "5   6    Handphone Android    Elektronik    0.034425     NaN          100.0   \n",
            "6   7  Kompor Gas 2 Tungku  Rumah Tangga    0.026029     3.9           60.0   \n",
            "7   8        Buku Motivasi          Buku    0.000000     4.2            0.0   \n",
            "8   9         Tas Punggung       Fashion    0.009236     4.6           95.0   \n",
            "9  10          Rice Cooker    Elektronik    0.021830     4.0           70.0   \n",
            "\n",
            "   Jumlah Terjual Status Promo   Stok Populer/Tidak Populer Kategori Harga  \\\n",
            "0            50.0        Promo  500.0               Populer          Murah   \n",
            "1             0.0  Tidak Promo  200.0               Populer          Murah   \n",
            "2           100.0        Promo   80.0         Tidak Populer          Murah   \n",
            "3            10.0  Tidak Promo  700.0               Populer          Murah   \n",
            "4             5.0  Tidak Promo  300.0               Populer          Murah   \n",
            "5            20.0        Promo  250.0               Populer          Murah   \n",
            "6            70.0  Tidak Promo    0.0         Tidak Populer          Murah   \n",
            "7             0.0        Promo  110.0         Tidak Populer          Murah   \n",
            "8            80.0  Tidak Promo  180.0         Tidak Populer          Murah   \n",
            "9            40.0        Promo    0.0         Tidak Populer          Murah   \n",
            "\n",
            "  Kategori Rating Kategori Stok  Harga (Rp) Normalisasi  \\\n",
            "0          Tinggi        Tinggi                0.017632   \n",
            "1          Tinggi        Sedang                0.034425   \n",
            "2          Sedang        Rendah                0.013434   \n",
            "3          Tinggi        Tinggi                0.059614   \n",
            "4          Tinggi        Sedang                1.000000   \n",
            "5          Tinggi        Sedang                0.034425   \n",
            "6          Sedang        Rendah                0.026029   \n",
            "7          Sedang        Sedang                0.000000   \n",
            "8          Tinggi        Sedang                0.009236   \n",
            "9          Sedang        Rendah                0.021830   \n",
            "\n",
            "   Jumlah Terjual Normalisasi  \n",
            "0                        0.50  \n",
            "1                        0.00  \n",
            "2                        1.00  \n",
            "3                        0.10  \n",
            "4                        0.05  \n",
            "5                        0.20  \n",
            "6                        0.70  \n",
            "7                        0.00  \n",
            "8                        0.80  \n",
            "9                        0.40  \n"
          ]
        }
      ]
    },
    {
      "cell_type": "code",
      "source": [],
      "metadata": {
        "id": "d6G-oPpdrmON"
      },
      "execution_count": null,
      "outputs": []
    }
  ]
}